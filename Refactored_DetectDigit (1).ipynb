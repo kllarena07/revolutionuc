{
 "cells": [
  {
   "cell_type": "code",
   "execution_count": null,
   "id": "23bdf3b6-2255-4ca7-8d67-1655e68a499e",
   "metadata": {},
   "outputs": [],
   "source": [
    "import tensorflow as tf\n",
    "import tensorflow.keras as k\n",
    "import matplotlib.pyplot as plt\n",
    "import numpy as np\n",
    "import sklearn.model_selection as skl"
   ]
  },
  {
   "cell_type": "code",
   "execution_count": null,
   "id": "3d10d67d-2b55-42e7-bc5f-35059d04f05a",
   "metadata": {},
   "outputs": [],
   "source": [
    "# Ensure TensorFlow runs on CPU only\n",
    "tf.config.set_visible_devices([], 'GPU')"
   ]
  },
  {
   "cell_type": "code",
   "execution_count": null,
   "id": "5558184a-f0ec-4232-b776-7d4f84dbac9a",
   "metadata": {},
   "outputs": [],
   "source": [
    "# Loading data\n",
    "mnist = tf.keras.datasets.mnist\n",
    "(x_train, y_train), (x_test_mnist, y_test_mnist) = mnist.load_data()"
   ]
  },
  {
   "cell_type": "code",
   "execution_count": null,
   "id": "6c54b8f4-5f28-44eb-826e-bfcef502dc61",
   "metadata": {},
   "outputs": [],
   "source": [
    "# Splitting data into train, validation, and test\n",
    "x_train, x_test, y_train, y_test = skl.train_test_split(x_train, y_train, test_size=0.2, random_state=1)\n",
    "x_train, x_val, y_train, y_val = skl.train_test_split(x_train, y_train, test_size=0.2, random_state=1)\n",
    "\n",
    "# Reshaping the matrices of test, validation, and training data\n",
    "x_train = x_train.reshape(x_train.shape[0], 28, 28, 1)\n",
    "x_test = x_test.reshape(x_test.shape[0], 28, 28, 1)\n",
    "x_val = x_val.reshape(x_val.shape[0], 28, 28, 1)\n",
    "\n",
    "print(\"Shape of x_train: \" + str(x_train.shape))\n",
    "print(\"Shape of x_val: \" + str(x_val.shape))\n",
    "print(\"Shape of x_test: \" + str(x_test.shape))"
   ]
  },
  {
   "cell_type": "code",
   "execution_count": null,
   "id": "ae7e2c02-ee89-4f06-a75d-d54e37122001",
   "metadata": {},
   "outputs": [],
   "source": [
    "# Defining a simple CNN model\n",
    "model = k.models.Sequential([\n",
    "    k.layers.Conv2D(32, (3, 3), activation='relu', input_shape=(28, 28, 1)),\n",
    "    k.layers.MaxPooling2D((2, 2)),\n",
    "    k.layers.Conv2D(64, (3, 3), activation='relu'),\n",
    "    k.layers.MaxPooling2D((2, 2)),\n",
    "    k.layers.Flatten(),\n",
    "    k.layers.Dense(64, activation='relu'),\n",
    "    k.layers.Dense(10, activation='softmax')\n",
    "])"
   ]
  },
  {
   "cell_type": "code",
   "execution_count": null,
   "id": "c10dc0b5-8918-4860-81a1-dc31068b95e2",
   "metadata": {},
   "outputs": [],
   "source": [
    "# Compiling the model\n",
    "model.compile(optimizer='adam', loss='sparse_categorical_crossentropy', metrics=['accuracy'])\n"
   ]
  },
  {
   "cell_type": "code",
   "execution_count": null,
   "id": "3ddbcd43-2376-45fd-8920-0a75df8be837",
   "metadata": {},
   "outputs": [],
   "source": [
    "# Training the model\n",
    "model.fit(x_train, y_train, epochs=3, validation_data=(x_val, y_val))"
   ]
  },
  {
   "cell_type": "code",
   "execution_count": null,
   "id": "19acb9ad-5bba-421a-a1b6-933cdcb00781",
   "metadata": {},
   "outputs": [],
   "source": [
    "\n",
    "# Evaluating the model\n",
    "test_loss, test_acc = model.evaluate(x_test, y_test, verbose=2)\n",
    "print(\"Test accuracy:\", test_acc)"
   ]
  }
 ],
 "metadata": {
  "kernelspec": {
   "display_name": "conda_tensorflow2_p310",
   "language": "python",
   "name": "conda_tensorflow2_p310"
  },
  "language_info": {
   "codemirror_mode": {
    "name": "ipython",
    "version": 3
   },
   "file_extension": ".py",
   "mimetype": "text/x-python",
   "name": "python",
   "nbconvert_exporter": "python",
   "pygments_lexer": "ipython3",
   "version": "3.10.16"
  }
 },
 "nbformat": 4,
 "nbformat_minor": 5
}
